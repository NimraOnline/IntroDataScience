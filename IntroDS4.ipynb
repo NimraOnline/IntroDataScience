{
 "cells": [
  {
   "cell_type": "markdown",
   "metadata": {
    "deletable": false,
    "editable": false,
    "etc_identifier": "653a3605-5bda-4e1f-beef-04a0173d3f41",
    "nbgrader": {
     "cell_type": "markdown",
     "checksum": "48770f8b5f5d3062d3badd51fcafc401",
     "grade": false,
     "grade_id": "cell-a6c4f74309fc2379",
     "locked": true,
     "schema_version": 3,
     "solution": false
    }
   },
   "source": [
    "# Assignment 4\n",
    "## Description\n",
    "In this assignment you must read in a file of metropolitan regions and associated sports teams from [assets/wikipedia_data.html](assets/wikipedia_data.html) and answer some questions about each metropolitan region. Each of these regions may have one or more teams from the \"Big 4\": NFL (football, in [assets/nfl.csv](assets/nfl.csv)), MLB (baseball, in [assets/mlb.csv](assets/mlb.csv)), NBA (basketball, in [assets/nba.csv](assets/nba.csv) or NHL (hockey, in [assets/nhl.csv](assets/nhl.csv)). Please keep in mind that all questions are from the perspective of the metropolitan region, and that this file is the \"source of authority\" for the location of a given sports team. Thus teams which are commonly known by a different area (e.g. \"Oakland Raiders\") need to be mapped into the metropolitan region given (e.g. San Francisco Bay Area). This will require some human data understanding outside of the data you've been given (e.g. you will have to hand-code some names, and might need to google to find out where teams are)!\n",
    "\n",
    "For each sport I would like you to answer the question: **what is the win/loss ratio's correlation with the population of the city it is in?** Win/Loss ratio refers to the number of wins over the number of wins plus the number of losses. Remember that to calculate the correlation with [`pearsonr`](https://docs.scipy.org/doc/scipy/reference/generated/scipy.stats.pearsonr.html), so you are going to send in two ordered lists of values, the populations from the wikipedia_data.html file and the win/loss ratio for a given sport in the same order. Average the win/loss ratios for those cities which have multiple teams of a single sport. Each sport is worth an equal amount in this assignment (20%\\*4=80%) of the grade for this assignment. You should only use data **from year 2018** for your analysis -- this is important!\n",
    "\n",
    "## Notes\n",
    "\n",
    "1. Do not include data about the MLS or CFL in any of the work you are doing, we're only interested in the Big 4 in this assignment.\n",
    "2. I highly suggest that you first tackle the four correlation questions in order, as they are all similar and worth the majority of grades for this assignment. This is by design!\n",
    "3. It's fair game to talk with peers about high level strategy as well as the relationship between metropolitan areas and sports teams. However, do not post code solving aspects of the assignment (including such as dictionaries mapping areas to teams, or regexes which will clean up names).\n",
    "4. There may be more teams than the assert statements test, remember to collapse multiple teams in one city into a single value!"
   ]
  },
  {
   "cell_type": "markdown",
   "metadata": {
    "deletable": false,
    "editable": false,
    "nbgrader": {
     "cell_type": "markdown",
     "checksum": "369ff9ecf0ee04640574205cbc697f94",
     "grade": false,
     "grade_id": "cell-712b2b5da63d4505",
     "locked": true,
     "schema_version": 3,
     "solution": false
    }
   },
   "source": [
    "## Question 1\n",
    "For this question, calculate the win/loss ratio's correlation with the population of the city it is in for the **NHL** using **2018** data."
   ]
  },
  {
   "cell_type": "code",
   "execution_count": 1,
   "metadata": {},
   "outputs": [],
   "source": [
    "%%capture\n",
    "#RUN FIRST, installs a missing library\n",
    "import sys\n",
    "!{sys.executable} -m pip install lxml==4.4.1"
   ]
  },
  {
   "cell_type": "code",
   "execution_count": 2,
   "metadata": {
    "deletable": false,
    "nbgrader": {
     "cell_type": "code",
     "checksum": "1cac4803b02502929f5b1612d48db2b5",
     "grade": false,
     "grade_id": "cell-69b16e4386e58030",
     "locked": false,
     "schema_version": 3,
     "solution": true
    }
   },
   "outputs": [
    {
     "data": {
      "text/plain": [
       "0.01248616292120991"
      ]
     },
     "execution_count": 2,
     "metadata": {},
     "output_type": "execute_result"
    }
   ],
   "source": [
    "import pandas as pd\n",
    "import numpy as np\n",
    "import scipy.stats as stats\n",
    "import re\n",
    "\n",
    "nhl_df=pd.read_csv(\"assets/nhl.csv\")\n",
    "cities=pd.read_html(\"assets/wikipedia_data.html\")[1]\n",
    "cities=cities.iloc[:-1,[0,3,5,6,7,8]]\n",
    "#these indeces are region names (type = strings) which we want to remove to calcular\n",
    "cleanNHL = nhl_df.iloc[0:36]\n",
    "cleanNHL = cleanNHL.drop(index=[0,9,18,26,35], axis=1)\n",
    "\n",
    "def nhl_correlation(pci=False): \n",
    "    \n",
    "    #Create a dictionary connecting the population to the team and it's region\n",
    "    popCityinfo = {}\n",
    "    for team in cities['NHL']:\n",
    "        team2 = re.sub('\\[note .*]','', team)\n",
    "        if team2 != '—' and team2!='':\n",
    "            metropolitanArea = cities['Metropolitan area'].where(cities['NHL'] == team).dropna()\n",
    "            population = cities['Population (2016 est.)[8]'].where(cities['NHL'] == team).dropna()\n",
    "\n",
    "            popCityinfo[team2] = [metropolitanArea.values[0], population.values[0]]\n",
    "\n",
    "    \n",
    "    #NJ Devils & Kings Ducks is named differently in the other dataframe, so we will rename\n",
    "    popCityinfo['New Jersey Devils'] = popCityinfo['Rangers Islanders Devils']\n",
    "    popCityinfo['Anaheim Ducks'] = popCityinfo['Kings Ducks']\n",
    "    del popCityinfo['Rangers Islanders Devils']\n",
    "    del popCityinfo['Kings Ducks']\n",
    "        \n",
    "    #Create w:l ratio from the other dataframe\n",
    "    cleanNHL['W:L'] = cleanNHL['W'].astype(int)/(cleanNHL['W'].astype(int)+cleanNHL['L'].astype(int))\n",
    "\n",
    "    #populate the dictionary with ratio\n",
    "    for key in popCityinfo:\n",
    "        for team in cleanNHL['team']:\n",
    "            if key in team:\n",
    "                ratio = cleanNHL['W:L'].where(cleanNHL['team'] == team).dropna().values[0]\n",
    "                popCityinfo[key].append(ratio)  \n",
    "                \n",
    "    #Additional teams not mentioned in cities dataframe\n",
    "    NYC = ['New York Rangers', 'New York Islanders']\n",
    "    LA = ['Los Angeles Kings*']\n",
    "    popCityinfo['New Jersey Devils'][-1] += cleanNHL['W:L'].where(cleanNHL['team'] == NYC[0]).dropna().values[0]\n",
    "    popCityinfo['New Jersey Devils'][-1] += cleanNHL['W:L'].where(cleanNHL['team'] == NYC[1]).dropna().values[0]\n",
    "    popCityinfo['New Jersey Devils'][-1] = popCityinfo['New Jersey Devils'][-1]/3\n",
    "    \n",
    "    popCityinfo['Anaheim Ducks'][-1] += cleanNHL['W:L'].where(cleanNHL['team'] == LA[0]).dropna().values[0]\n",
    "    popCityinfo['Anaheim Ducks'][-1] = popCityinfo['Anaheim Ducks'][-1]/2\n",
    "    \n",
    "    \n",
    "    population_by_region = [] # pass in metropolitan area population from cities\n",
    "    win_loss_by_region = [] # pass in win/loss ratio from nhl_df in the same order as cities[\"Metropolitan area\"]\n",
    "    \n",
    "    for item in popCityinfo.items():\n",
    "        population_by_region.append(int(item[1][1]))\n",
    "        win_loss_by_region.append(item[1][2])\n",
    "    \n",
    "    assert len(population_by_region) == len(win_loss_by_region), \"Q1: Your lists must be the same length\"\n",
    "    assert len(population_by_region) == 28, \"Q1: There should be 28 teams being analysed for NHL\"\n",
    "    \n",
    "    if (pci == True):\n",
    "        return(popCityinfo)\n",
    "    \n",
    "    return stats.pearsonr(population_by_region, win_loss_by_region)[0]\n",
    "\n",
    "nhl_correlation()"
   ]
  },
  {
   "cell_type": "code",
   "execution_count": null,
   "metadata": {
    "deletable": false,
    "editable": false,
    "nbgrader": {
     "cell_type": "code",
     "checksum": "52a581df513c71153e105b93764cda4b",
     "grade": true,
     "grade_id": "cell-ebe0b2dfe1067e63",
     "locked": true,
     "points": 20,
     "schema_version": 3,
     "solution": false
    }
   },
   "outputs": [],
   "source": []
  },
  {
   "cell_type": "markdown",
   "metadata": {
    "deletable": false,
    "editable": false,
    "nbgrader": {
     "cell_type": "markdown",
     "checksum": "988912cae4968d81473f46d783e79c16",
     "grade": false,
     "grade_id": "cell-cb964e690298b71d",
     "locked": true,
     "schema_version": 3,
     "solution": false
    }
   },
   "source": [
    "## Question 2\n",
    "For this question, calculate the win/loss ratio's correlation with the population of the city it is in for the **NBA** using **2018** data."
   ]
  },
  {
   "cell_type": "code",
   "execution_count": 3,
   "metadata": {
    "deletable": false,
    "nbgrader": {
     "cell_type": "code",
     "checksum": "9394222aafc8ccab0a228098ba0d6010",
     "grade": false,
     "grade_id": "cell-5a5f21279e3d3572",
     "locked": false,
     "schema_version": 3,
     "solution": true
    }
   },
   "outputs": [
    {
     "data": {
      "text/plain": [
       "-0.1765716025284462"
      ]
     },
     "execution_count": 3,
     "metadata": {},
     "output_type": "execute_result"
    }
   ],
   "source": [
    "import pandas as pd\n",
    "import numpy as np\n",
    "import scipy.stats as stats\n",
    "import re\n",
    "\n",
    "nba_df=pd.read_csv(\"assets/nba.csv\")\n",
    "cities=pd.read_html(\"assets/wikipedia_data.html\")[1]\n",
    "cities=cities.iloc[:-1,[0,3,5,6,7,8]]\n",
    "#2018 data\n",
    "cleanNBA = nba_df.iloc[0:30]\n",
    "\n",
    "\n",
    "def nba_correlation(pci=False):\n",
    "    popCityinfo = {}\n",
    "    for team in cities['NBA']:\n",
    "        team2 = re.sub('\\[note .*]','', team)\n",
    "        if team2 != '—' and team2!='':\n",
    "            metropolitanArea = cities['Metropolitan area'].where(cities['NBA'] == team).dropna()\n",
    "            population = cities['Population (2016 est.)[8]'].where(cities['NBA'] == team).dropna()\n",
    "\n",
    "            popCityinfo[team2] = [metropolitanArea.values[0], population.values[0]]\n",
    "\n",
    "    #2018 data\n",
    "    cleanNBA = nba_df.iloc[0:30]\n",
    "\n",
    "    #Create w:l ratio from the other dataframe\n",
    "    cleanNBA['W:L'] = cleanNBA['W'].astype(int)/(cleanNBA['W'].astype(int)+cleanNBA['L'].astype(int))\n",
    "\n",
    "    #populate the dictionary with ratio\n",
    "    NYC = False\n",
    "    NYC2 = False\n",
    "    LA = False\n",
    "    LA2 = False\n",
    "    for key in popCityinfo:\n",
    "        for team in cleanNBA['team']:\n",
    "            team2 = re.sub('\\*','',team)\n",
    "            team2 = re.sub('\\(\\d*\\)','',team2)\n",
    "            if key in team2:\n",
    "                ratio = cleanNBA['W:L'].where(cleanNBA['team'] == team).dropna().values[0]\n",
    "                popCityinfo[key].append(ratio)\n",
    "                continue\n",
    "\n",
    "            if 'New York Knicks' in team2 or 'Brooklyn Nets' in team2:\n",
    "                if not NYC2:\n",
    "                    ratio = cleanNBA['W:L'].where(cleanNBA['team'] == team).dropna().values[0]\n",
    "                    if not NYC:\n",
    "                        popCityinfo['Knicks Nets'].append(ratio)\n",
    "                        NYC = True\n",
    "                    else:\n",
    "                        popCityinfo['Knicks Nets'][-1] += ratio\n",
    "                        popCityinfo['Knicks Nets'][-1] = popCityinfo['Knicks Nets'][-1]/2\n",
    "                        NYC2 = True\n",
    "            if 'Los Angeles Lakers' in team2 or 'Los Angeles Clippers' in team2:\n",
    "                if not LA2:\n",
    "                    ratio = cleanNBA['W:L'].where(cleanNBA['team'] == team).dropna().values[0]\n",
    "                    if not LA:\n",
    "                        popCityinfo['Lakers Clippers'].append(ratio)\n",
    "                        LA = True\n",
    "                    else:\n",
    "                        popCityinfo['Lakers Clippers'][-1] += ratio\n",
    "                        popCityinfo['Lakers Clippers'][-1] = popCityinfo['Lakers Clippers'][-1]/2\n",
    "                        LA2 = True\n",
    "\n",
    "    population_by_region = [] # pass in metropolitan area population from cities\n",
    "    win_loss_by_region = [] # pass in win/loss ratio from nba_df in the same order as cities[\"Metropolitan area\"]\n",
    "    \n",
    "    for teams in popCityinfo.items():\n",
    "        population_by_region.append(int(teams[1][1]))\n",
    "        win_loss_by_region.append(teams[1][2])\n",
    "\n",
    "    assert len(population_by_region) == len(win_loss_by_region), \"Q2: Your lists must be the same length\"\n",
    "    assert len(population_by_region) == 28, \"Q2: There should be 28 teams being analysed for NBA\"\n",
    "\n",
    "    if (pci == True):\n",
    "        return(popCityinfo)\n",
    "    \n",
    "    return stats.pearsonr(population_by_region, win_loss_by_region)[0]\n",
    "\n",
    "nba_correlation()"
   ]
  },
  {
   "cell_type": "code",
   "execution_count": null,
   "metadata": {
    "deletable": false,
    "editable": false,
    "nbgrader": {
     "cell_type": "code",
     "checksum": "bbdeb8eb22f525a34c10dc8798324e42",
     "grade": true,
     "grade_id": "cell-e573b2b4a282b470",
     "locked": true,
     "points": 20,
     "schema_version": 3,
     "solution": false
    }
   },
   "outputs": [],
   "source": []
  },
  {
   "cell_type": "markdown",
   "metadata": {
    "deletable": false,
    "editable": false,
    "nbgrader": {
     "cell_type": "markdown",
     "checksum": "1a1a5809f675ca033086422007cd73bd",
     "grade": false,
     "grade_id": "cell-96e15e4335df78f4",
     "locked": true,
     "schema_version": 3,
     "solution": false
    }
   },
   "source": [
    "## Question 3\n",
    "For this question, calculate the win/loss ratio's correlation with the population of the city it is in for the **MLB** using **2018** data."
   ]
  },
  {
   "cell_type": "code",
   "execution_count": 4,
   "metadata": {
    "deletable": false,
    "nbgrader": {
     "cell_type": "code",
     "checksum": "27e8c0da6c9fa0dffc10488314335b6c",
     "grade": false,
     "grade_id": "cell-33b00fc3f3467b0c",
     "locked": false,
     "schema_version": 3,
     "solution": true
    }
   },
   "outputs": [
    {
     "data": {
      "text/plain": [
       "0.1502769830266931"
      ]
     },
     "execution_count": 4,
     "metadata": {},
     "output_type": "execute_result"
    }
   ],
   "source": [
    "import pandas as pd\n",
    "import numpy as np\n",
    "import scipy.stats as stats\n",
    "import re\n",
    "\n",
    "mlb_df=pd.read_csv(\"assets/mlb.csv\")\n",
    "cities=pd.read_html(\"assets/wikipedia_data.html\")[1]\n",
    "cities=cities.iloc[:-1,[0,3,5,6,7,8]]\n",
    "#2018 data\n",
    "cleanMLB = mlb_df.iloc[0:30]\n",
    "\n",
    "def mlb_correlation(pci=False): \n",
    "    # YOUR CODE HERE\n",
    "    popCityinfo = {}\n",
    "\n",
    "    for team in cities['MLB']:\n",
    "        team2 = re.sub('\\[note .*]','', team)\n",
    "        if team2 != '—' and team2!='':\n",
    "            cities['MLB'] = cities['MLB'].replace([team], team2)\n",
    "            metropolitanArea = cities['Metropolitan area'].where(cities['MLB'] == team2).dropna()\n",
    "            population = cities['Population (2016 est.)[8]'].where(cities['MLB'] == team2).dropna()\n",
    "            popCityinfo[team2] = [metropolitanArea.values[0], population.values[0]]\n",
    "   \n",
    "    #create col in df of w:l ratios/ team\n",
    "    cleanMLB['W:L'] = cleanMLB['W'].astype(int)/(cleanMLB['W'].astype(int)+cleanMLB['L'].astype(int))\n",
    "    \n",
    "    #two team cities\n",
    "    popCityinfo['Cubs White Sox'].append((float(cleanMLB['W:L'].where(cleanMLB['team'] == 'Chicago White Sox').dropna()) +\n",
    "                              float(cleanMLB['W:L'].where(cleanMLB['team'] == 'Chicago Cubs').dropna()))/2)\n",
    "    \n",
    "    popCityinfo['Yankees Mets'].append((float(cleanMLB['W:L'].where(cleanMLB['team'] == 'New York Yankees').dropna()) +\n",
    "                            float(cleanMLB['W:L'].where(cleanMLB['team'] == 'New York Mets').dropna()))/2)\n",
    "    \n",
    "    popCityinfo['Dodgers Angels'].append((float(cleanMLB['W:L'].where(cleanMLB['team'] == 'Los Angeles Dodgers').dropna()) +\n",
    "                            float(cleanMLB['W:L'].where(cleanMLB['team'] == 'Los Angeles Angels').dropna()))/2)\n",
    "    \n",
    "    popCityinfo['Giants Athletics'].append((float(cleanMLB['W:L'].where(cleanMLB['team'] == 'San Francisco Giants').dropna()) +\n",
    "                               float(cleanMLB['W:L'].where(cleanMLB['team'] == 'Oakland Athletics').dropna()))/2)\n",
    "    \n",
    "    for key in popCityinfo:\n",
    "        for t in cleanMLB['team']:\n",
    "            if key in t:\n",
    "                ratio = float(cleanMLB['W:L'].where(cleanMLB['team'] == t).dropna())\n",
    "                popCityinfo[key].append(ratio)\n",
    "                \n",
    "\n",
    "    \n",
    "    \n",
    "    \n",
    "    population_by_region = [] # pass in metropolitan area population from cities\n",
    "    win_loss_by_region = [] # pass in win/loss ratio from mlb_df in the same order as cities[\"Metropolitan area\"]\n",
    "\n",
    "    for teams in popCityinfo.items():\n",
    "        population_by_region.append(int(teams[1][1]))\n",
    "        win_loss_by_region.append(teams[1][2])\n",
    "\n",
    "    assert len(population_by_region) == len(win_loss_by_region), \"Q3: Your lists must be the same length\"\n",
    "    assert len(population_by_region) == 26, \"Q3: There should be 26 teams being analysed for MLB\"\n",
    "        \n",
    "    if (pci == True):\n",
    "        return(popCityinfo)\n",
    "\n",
    "    return stats.pearsonr(population_by_region, win_loss_by_region)[0]\n",
    "\n",
    "mlb_correlation()"
   ]
  },
  {
   "cell_type": "code",
   "execution_count": null,
   "metadata": {
    "deletable": false,
    "editable": false,
    "nbgrader": {
     "cell_type": "code",
     "checksum": "cda33b094ba19ccc37a481e0dd29e0bc",
     "grade": true,
     "grade_id": "cell-764d4476f425c5a2",
     "locked": true,
     "points": 20,
     "schema_version": 3,
     "solution": false
    }
   },
   "outputs": [],
   "source": []
  },
  {
   "cell_type": "markdown",
   "metadata": {
    "deletable": false,
    "editable": false,
    "nbgrader": {
     "cell_type": "markdown",
     "checksum": "6977a6da9ed6d8b7a0b7e37bbeda709b",
     "grade": false,
     "grade_id": "cell-793df6c04dfb126e",
     "locked": true,
     "schema_version": 3,
     "solution": false
    }
   },
   "source": [
    "## Question 4\n",
    "For this question, calculate the win/loss ratio's correlation with the population of the city it is in for the **NFL** using **2018** data."
   ]
  },
  {
   "cell_type": "code",
   "execution_count": 5,
   "metadata": {
    "deletable": false,
    "nbgrader": {
     "cell_type": "code",
     "checksum": "c4914ad1e119278ec2bd567c52640b66",
     "grade": false,
     "grade_id": "cell-8ccebc209aeec8d9",
     "locked": false,
     "schema_version": 3,
     "solution": true
    }
   },
   "outputs": [
    {
     "data": {
      "text/plain": [
       "0.004922112149349414"
      ]
     },
     "execution_count": 5,
     "metadata": {},
     "output_type": "execute_result"
    }
   ],
   "source": [
    "import pandas as pd\n",
    "import numpy as np\n",
    "import scipy.stats as stats\n",
    "import re\n",
    "\n",
    "nfl_df=pd.read_csv(\"assets/nfl.csv\")\n",
    "cities=pd.read_html(\"assets/wikipedia_data.html\")[1]\n",
    "cities=cities.iloc[:-1,[0,3,5,6,7,8]]\n",
    "\n",
    "nfl2018 = nfl_df[1:40]\n",
    "nfl2018 = nfl2018.drop(index=[5,10,15,20,25,30,35], axis=1)\n",
    "\n",
    "\n",
    "def nfl_correlation(pci=False):\n",
    "    \n",
    "    popCityinfo = {}\n",
    "    for team in cities['NFL']:\n",
    "        team2 = re.sub('\\[note .*]','', team)\n",
    "        if team2 != '—' and team2!='' and team2!='— ':\n",
    "            cities['NFL'] = cities['NFL'].replace([team], team2)\n",
    "            metropolitanArea = cities['Metropolitan area'].where(cities['NFL'] == team2).dropna()\n",
    "            population = cities['Population (2016 est.)[8]'].where(cities['NFL'] == team2).dropna()\n",
    "            popCityinfo[team2] = [metropolitanArea.values[0], population.values[0]]\n",
    "\n",
    "    nfl2018['wlr'] = nfl2018['W'].astype(int)/(nfl2018['W'].astype(int)+nfl2018['L'].astype(int))\n",
    "\n",
    "    for team in popCityinfo:\n",
    "        for t in nfl2018['team']:\n",
    "            if team in t:\n",
    "                ratio = float(nfl2018['wlr'].where(nfl2018['team'] == t).dropna())\n",
    "                popCityinfo[team].append(ratio)\n",
    "\n",
    "    r1 = float(nfl2018['wlr'].where(nfl2018['team'] == 'New York Jets').dropna())+float(nfl2018['wlr'].where(nfl2018['team'] == 'New York Giants').dropna())\n",
    "    r1 = r1/2\n",
    "    popCityinfo['Giants Jets'].append(r1)\n",
    "\n",
    "    r2 = float(nfl2018['wlr'].where(nfl2018['team'] == 'Los Angeles Rams*').dropna())+float(nfl2018['wlr'].where(nfl2018['team'] == 'Los Angeles Chargers+').dropna())\n",
    "    r2 = r2/2\n",
    "    popCityinfo['Rams Chargers'].append(r2)\n",
    "\n",
    "    r3 = float(nfl2018['wlr'].where(nfl2018['team'] == 'San Francisco 49ers').dropna())+float(nfl2018['wlr'].where(nfl2018['team'] == 'Oakland Raiders').dropna())\n",
    "    r3 = r3/2\n",
    "    popCityinfo['49ers Raiders'].append(r3)\n",
    "    \n",
    "    population_by_region = [] # pass in metropolitan area population from cities\n",
    "    win_loss_by_region = [] # pass in win/loss ratio from nfl_df in the same order as cities[\"Metropolitan area\"]\n",
    "    \n",
    "    for key,value in popCityinfo.items():\n",
    "        population_by_region.append(int(value[1]))\n",
    "        win_loss_by_region.append(value[2])\n",
    "\n",
    "    assert len(population_by_region) == len(win_loss_by_region), \"Q4: Your lists must be the same length\"\n",
    "    assert len(population_by_region) == 29, \"Q4: There should be 29 teams being analysed for NFL\"\n",
    "    \n",
    "    if (pci == True):\n",
    "        return(popCityinfo)\n",
    "\n",
    "    return stats.pearsonr(population_by_region, win_loss_by_region)[0]\n",
    "\n",
    "nfl_correlation()"
   ]
  },
  {
   "cell_type": "code",
   "execution_count": null,
   "metadata": {
    "deletable": false,
    "editable": false,
    "nbgrader": {
     "cell_type": "code",
     "checksum": "e9415d6399aa49e3a1a60813afdefa3b",
     "grade": true,
     "grade_id": "cell-de7b148b9554dbda",
     "locked": true,
     "points": 20,
     "schema_version": 3,
     "solution": false
    }
   },
   "outputs": [],
   "source": []
  },
  {
   "cell_type": "markdown",
   "metadata": {
    "deletable": false,
    "editable": false,
    "nbgrader": {
     "cell_type": "markdown",
     "checksum": "b02d5cd3273f561e4ae939bb2a41740c",
     "grade": false,
     "grade_id": "cell-97b49d8639e908c4",
     "locked": true,
     "schema_version": 3,
     "solution": false
    }
   },
   "source": [
    "## Question 5\n",
    "In this question I would like you to explore the hypothesis that **given that an area has two sports teams in different sports, those teams will perform the same within their respective sports**. How I would like to see this explored is with a series of paired t-tests (so use [`ttest_rel`](https://docs.scipy.org/doc/scipy/reference/generated/scipy.stats.ttest_rel.html)) between all pairs of sports. Are there any sports where we can reject the null hypothesis? Again, average values where a sport has multiple teams in one region. Remember, you will only be including, for each sport, cities which have teams engaged in that sport, drop others as appropriate. This question is worth 20% of the grade for this assignment."
   ]
  },
  {
   "cell_type": "code",
   "execution_count": 20,
   "metadata": {
    "deletable": false,
    "nbgrader": {
     "cell_type": "code",
     "checksum": "6d78c961eb66f8d8c81f06d33ae8f393",
     "grade": false,
     "grade_id": "cell-92f25f44b8d1179f",
     "locked": false,
     "schema_version": 3,
     "solution": true
    }
   },
   "outputs": [
    {
     "data": {
      "text/html": [
       "<div>\n",
       "<style scoped>\n",
       "    .dataframe tbody tr th:only-of-type {\n",
       "        vertical-align: middle;\n",
       "    }\n",
       "\n",
       "    .dataframe tbody tr th {\n",
       "        vertical-align: top;\n",
       "    }\n",
       "\n",
       "    .dataframe thead th {\n",
       "        text-align: right;\n",
       "    }\n",
       "</style>\n",
       "<table border=\"1\" class=\"dataframe\">\n",
       "  <thead>\n",
       "    <tr style=\"text-align: right;\">\n",
       "      <th></th>\n",
       "      <th>NFL</th>\n",
       "      <th>NBA</th>\n",
       "      <th>NHL</th>\n",
       "      <th>MLB</th>\n",
       "    </tr>\n",
       "  </thead>\n",
       "  <tbody>\n",
       "    <tr>\n",
       "      <th>NFL</th>\n",
       "      <td>NaN</td>\n",
       "      <td>0.941792</td>\n",
       "      <td>0.030883</td>\n",
       "      <td>0.802069</td>\n",
       "    </tr>\n",
       "    <tr>\n",
       "      <th>NBA</th>\n",
       "      <td>0.941792</td>\n",
       "      <td>NaN</td>\n",
       "      <td>0.022297</td>\n",
       "      <td>0.950540</td>\n",
       "    </tr>\n",
       "    <tr>\n",
       "      <th>NHL</th>\n",
       "      <td>0.030883</td>\n",
       "      <td>0.022297</td>\n",
       "      <td>NaN</td>\n",
       "      <td>0.000708</td>\n",
       "    </tr>\n",
       "    <tr>\n",
       "      <th>MLB</th>\n",
       "      <td>0.802069</td>\n",
       "      <td>0.950540</td>\n",
       "      <td>0.000708</td>\n",
       "      <td>NaN</td>\n",
       "    </tr>\n",
       "  </tbody>\n",
       "</table>\n",
       "</div>"
      ],
      "text/plain": [
       "          NFL       NBA       NHL       MLB\n",
       "NFL       NaN  0.941792  0.030883  0.802069\n",
       "NBA  0.941792       NaN  0.022297  0.950540\n",
       "NHL  0.030883  0.022297       NaN  0.000708\n",
       "MLB  0.802069  0.950540  0.000708       NaN"
      ]
     },
     "execution_count": 20,
     "metadata": {},
     "output_type": "execute_result"
    }
   ],
   "source": [
    "import pandas as pd\n",
    "import numpy as np\n",
    "import scipy.stats as stats\n",
    "import re\n",
    "\n",
    "mlb_df=pd.read_csv(\"assets/mlb.csv\")\n",
    "nhl_df=pd.read_csv(\"assets/nhl.csv\")\n",
    "nba_df=pd.read_csv(\"assets/nba.csv\")\n",
    "nfl_df=pd.read_csv(\"assets/nfl.csv\")\n",
    "cities=pd.read_html(\"assets/wikipedia_data.html\")[1]\n",
    "cities=cities.iloc[:-1,[0,3,5,6,7,8]]\n",
    "\n",
    "def sports_team_performance():\n",
    "    # YOUR CODE HERE    \n",
    "    nba_nhl = []\n",
    "    nhl_nba = []\n",
    "    for k,v in nba_correlation(pci=True).items():\n",
    "        for k2, v2, in nhl_correlation(pci=True).items():\n",
    "            if v[0] == v2[0]:\n",
    "                nba_nhl.append(v[2])\n",
    "                nhl_nba.append(v2[2])\n",
    "\n",
    "    nba_nfl = []\n",
    "    nfl_nba = []          \n",
    "    for k,v in nba_correlation(pci=True).items():\n",
    "        for k2, v2, in nfl_correlation(pci=True).items():\n",
    "            if v[0] == v2[0]:\n",
    "                nba_nfl.append(v[2])\n",
    "                nfl_nba.append(v2[2])\n",
    "\n",
    "    nba_mlb = []\n",
    "    mlb_nba = []          \n",
    "    for k,v in nba_correlation(pci=True).items():\n",
    "        for k2, v2, in mlb_correlation(pci=True).items():\n",
    "            if v[0] == v2[0]:\n",
    "                nba_mlb.append(v[2])\n",
    "                mlb_nba.append(v2[2])\n",
    "\n",
    "    nhl_nfl =[]\n",
    "    nfl_nhl = []        \n",
    "    for k,v in nhl_correlation(pci=True).items():\n",
    "        for k2, v2, in nfl_correlation(pci=True).items():\n",
    "            if v[0] == v2[0]:\n",
    "                nhl_nfl.append(v[2])\n",
    "                nfl_nhl.append(v2[2])\n",
    "\n",
    "    nhl_mlb = []\n",
    "    mlb_nhl = []\n",
    "    for k,v in nhl_correlation(pci=True).items():\n",
    "        for k2, v2, in mlb_correlation(pci=True).items():\n",
    "            if v[0] == v2[0]:\n",
    "                nhl_mlb.append(v[2])\n",
    "                mlb_nhl.append(v2[2])\n",
    "\n",
    "    nfl_mlb = []\n",
    "    mlb_nfl = []\n",
    "    for k,v in nfl_correlation(pci=True).items():\n",
    "        for k2, v2, in mlb_correlation(pci=True).items():\n",
    "            if v[0] == v2[0]:\n",
    "                nfl_mlb.append(v[2])\n",
    "                mlb_nfl.append(v2[2])\n",
    "                \n",
    "    def pval(t1, t2):\n",
    "        return(stats.ttest_rel(t1, t2)[1])\n",
    "    nflnba = pval(nfl_nba, nba_nfl)\n",
    "    nflnhl = pval(nfl_nhl, nhl_nfl)\n",
    "    nflmlb = pval(nfl_mlb, mlb_nfl)\n",
    "    nbanhl = pval(nba_nhl, nhl_nba)\n",
    "    nbamlb = pval(nba_mlb, mlb_nba)\n",
    "    nhlmlb = pval(nhl_mlb, mlb_nhl)\n",
    "    # Note: p_values is a full dataframe, so df.loc[\"NFL\",\"NBA\"] should be the same as df.loc[\"NBA\",\"NFL\"] and\n",
    "    # df.loc[\"NFL\",\"NFL\"] should return np.nan\n",
    "    sports = {'NFL':[np.nan, nflnba, nflnhl, nflmlb], 'NBA':[nflnba, np.nan, nbanhl, nbamlb], 'NHL':[nflnhl, nbanhl, np.nan, nhlmlb], 'MLB':[nflmlb, nbamlb, nhlmlb, np.nan]}\n",
    "    p_values = pd.DataFrame({k:v for k,v in sports.items()}, index=sports.keys())\n",
    "    assert abs(p_values.loc[\"NBA\", \"NHL\"] - 0.02) <= 1e-2, \"The NBA-NHL p-value should be around 0.02\"\n",
    "    assert abs(p_values.loc[\"MLB\", \"NFL\"] - 0.80) <= 1e-2, \"The MLB-NFL p-value should be around 0.80\"\n",
    "    return p_values\n",
    "sports_team_performance()"
   ]
  },
  {
   "cell_type": "code",
   "execution_count": null,
   "metadata": {
    "deletable": false,
    "editable": false,
    "nbgrader": {
     "cell_type": "code",
     "checksum": "2a596ab421a45cc01168d10e8fbb8f89",
     "grade": true,
     "grade_id": "cell-fb4b9cb5ff4570a6",
     "locked": true,
     "points": 20,
     "schema_version": 3,
     "solution": false
    }
   },
   "outputs": [],
   "source": []
  }
 ],
 "metadata": {
  "coursera": {
   "schema_names": [
    "mooc_adswpy_v1_assignment4"
   ]
  },
  "kernelspec": {
   "display_name": "Python 3 (ipykernel)",
   "language": "python",
   "name": "python3"
  },
  "language_info": {
   "codemirror_mode": {
    "name": "ipython",
    "version": 3
   },
   "file_extension": ".py",
   "mimetype": "text/x-python",
   "name": "python",
   "nbconvert_exporter": "python",
   "pygments_lexer": "ipython3",
   "version": "3.8.10"
  }
 },
 "nbformat": 4,
 "nbformat_minor": 4
}
